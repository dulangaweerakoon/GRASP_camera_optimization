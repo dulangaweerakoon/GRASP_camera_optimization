{
 "cells": [
  {
   "cell_type": "code",
   "execution_count": 1,
   "metadata": {},
   "outputs": [],
   "source": [
    "import numpy as np\n",
    "import random\n",
    "import time\n",
    "from itertools import combinations"
   ]
  },
  {
   "cell_type": "code",
   "execution_count": 2,
   "metadata": {},
   "outputs": [],
   "source": [
    "def compute_subset_bandwidth(subset):\n",
    "    BANDWIDTH = 10\n",
    "    n = len(subset)\n",
    "    if (n==1):\n",
    "        return  n*BANDWIDTH/2\n",
    "    bandwidth = n*(n-1)*BANDWIDTH/2 + n*BANDWIDTH/2\n",
    "    return bandwidth"
   ]
  },
  {
   "cell_type": "code",
   "execution_count": 76,
   "metadata": {},
   "outputs": [],
   "source": [
    "def check_camera_coverage(solution,subsets,set_all_cameras):\n",
    "    set_ = []\n",
    "    \n",
    "    for s in solution:\n",
    "        sub = subsets[s]\n",
    "        for c in sub:\n",
    "            set_.append(c)\n",
    "    set_ = set(set_)\n",
    "    # print(set_)\n",
    "    return set_==set(set_all_cameras)\n",
    "# check_camera_coverage([[1,1,1],[2,2,2]],{0,1,2})"
   ]
  },
  {
   "cell_type": "code",
   "execution_count": 77,
   "metadata": {},
   "outputs": [],
   "source": [
    "def compute_subset_accuracy(subset,set_all_accs):\n",
    "    ## Will implement later\n",
    "    n = len(subset)\n",
    "    sum_ = 0\n",
    "    for s in subset:\n",
    "        sum_ += set_all_accs[s]\n",
    "    sum_ = sum_/n\n",
    "    return sum_"
   ]
  },
  {
   "cell_type": "code",
   "execution_count": 78,
   "metadata": {},
   "outputs": [],
   "source": [
    "def process_data(filepath):\n",
    "    \n",
    "    file_ = open(filepath, \"r\")\n",
    "    lines = file_.readlines() \n",
    "    set_all_accs =  [int(x.rstrip()) for x in lines]\n",
    "    total_bandwidth = set_all_accs[0]\n",
    "    set_all_accs = set_all_accs[1:]\n",
    "    set_all_cameras = [i for i in range(len(set_all_accs))]\n",
    "    subsets = []\n",
    "    subsets_bandwidth = []\n",
    "    subsets_acc = []\n",
    "    for i in range(1,5):\n",
    "        combs = combinations(range(len(set_all_cameras)), i)\n",
    "        for subset in combs:\n",
    "            subsets.append(subset)\n",
    "            subsets_bandwidth.append(compute_subset_bandwidth(subset))\n",
    "            subsets_acc.append(compute_subset_accuracy(subset,set_all_accs))\n",
    "            \n",
    "\n",
    "    total_num_subsets = [i for i in range(len(subsets))]\n",
    "    # print(subsets)\n",
    "\n",
    "    return total_bandwidth,total_num_subsets, set_all_cameras, subsets, subsets_acc, subsets_bandwidth\n",
    "\n",
    ""
   ]
  },
  {
   "cell_type": "code",
   "execution_count": 79,
   "metadata": {},
   "outputs": [],
   "source": [
    "total_bandwidth,total_num_subsets, set_all_cameras, subsets, subsets_acc, subsets_bandwidth = process_data(\"input.txt\")"
   ]
  },
  {
   "cell_type": "code",
   "execution_count": 80,
   "metadata": {},
   "outputs": [
    {
     "data": {
      "text/plain": [
       "10000"
      ]
     },
     "execution_count": 80,
     "metadata": {},
     "output_type": "execute_result"
    }
   ],
   "source": [
    "total_bandwidth"
   ]
  },
  {
   "cell_type": "code",
   "execution_count": 81,
   "metadata": {},
   "outputs": [],
   "source": [
    "def greedy_randomized_construction(alpha, total_num_subsets, set_all_cameras):\n",
    "\n",
    "    MAX = 1000000\n",
    "    solution = set()\n",
    "    #solution_camera_attributes = set() # this is actually a set of subsets or set of cameras\n",
    "    solution_camera_attributes = []\n",
    "    candidates = set(total_num_subsets) # this is actually a set of all the subset that we have by index\n",
    "    # print(candidates)\n",
    "    while not check_camera_coverage(solution, subsets,set_all_cameras):\n",
    "        ratio = dict()\n",
    "        for i in candidates:\n",
    "            if i not in solution:\n",
    "                ratio[i] = subsets_acc[i] / subsets_bandwidth[i]\n",
    "        c_min = min(ratio.values())\n",
    "        c_max = max(ratio.values())\n",
    "        \n",
    "        RCL = [i for i in candidates if i in ratio.keys() and ratio[i] <= c_min + alpha * (c_max - c_min)]\n",
    "        #print(len(candidates),len(RCL))\n",
    "        selected_index = random.choice(RCL)\n",
    "        # take out that specific subset's index from the set of candidates (subset)\n",
    "        candidates -= {selected_index}\n",
    "        # add the index of the subset to the solution\n",
    "        solution.add(selected_index)\n",
    "        # add the subset to the solution_camera_attributes list\n",
    "        solution_camera_attributes.append(subsets[selected_index]) \n",
    "    return solution\n",
    "        \n",
    "solution = greedy_randomized_construction(0.1, total_num_subsets, set_all_cameras)\n",
    ""
   ]
  },
  {
   "cell_type": "code",
   "execution_count": 82,
   "metadata": {},
   "outputs": [
    {
     "data": {
      "text/plain": [
       "{56, 76, 161, 240, 292, 327, 359, 373, 375}"
      ]
     },
     "execution_count": 82,
     "metadata": {},
     "output_type": "execute_result"
    }
   ],
   "source": [
    "solution"
   ]
  },
  {
   "cell_type": "code",
   "execution_count": 83,
   "metadata": {},
   "outputs": [
    {
     "data": {
      "text/plain": [
       "True"
      ]
     },
     "execution_count": 83,
     "metadata": {},
     "output_type": "execute_result"
    }
   ],
   "source": [
    "check_camera_coverage(solution,subsets,set_all_cameras)"
   ]
  },
  {
   "cell_type": "code",
   "execution_count": 84,
   "metadata": {},
   "outputs": [
    {
     "data": {
      "text/plain": [
       "(1, 5, 7)"
      ]
     },
     "execution_count": 84,
     "metadata": {},
     "output_type": "execute_result"
    }
   ],
   "source": [
    "subsets[110]"
   ]
  },
  {
   "cell_type": "code",
   "execution_count": 85,
   "metadata": {},
   "outputs": [],
   "source": [
    "def compute_accuracy(solution):\n",
    "    sum_ = 0\n",
    "    for s in solution:\n",
    "        sum_+=subsets_acc[s]\n",
    "    return sum_"
   ]
  },
  {
   "cell_type": "code",
   "execution_count": 86,
   "metadata": {},
   "outputs": [],
   "source": [
    "def compute_bandwidth(solution):\n",
    "    sum_ = 0\n",
    "    for s in solution:\n",
    "        sum_+=subsets_bandwidth[s]\n",
    "    return sum_"
   ]
  },
  {
   "cell_type": "code",
   "execution_count": 87,
   "metadata": {},
   "outputs": [],
   "source": [
    "def is_feasible(solution,total_bandwidth):\n",
    "    return check_camera_coverage(solution,subsets,set_all_cameras) and compute_bandwidth(solution) <= total_bandwidth"
   ]
  },
  {
   "cell_type": "code",
   "execution_count": 106,
   "metadata": {},
   "outputs": [],
   "source": [
    "# check that there are no redudant cameras\n",
    "def remove_redundant_cameras(solution, subsets, set_all_cameras):\n",
    "    for i in solution:\n",
    "        temp_sol = solution.copy()\n",
    "        temp_sol.remove(i)\n",
    "        if check_camera_coverage(temp_sol,subsets,set_all_cameras):\n",
    "            solution = temp_sol.copy()\n",
    "    return solution"
   ]
  },
  {
   "cell_type": "code",
   "execution_count": 115,
   "metadata": {},
   "outputs": [],
   "source": [
    "# remove_redundant_cameras(solution,subsets,set_all_cameras)"
   ]
  },
  {
   "cell_type": "code",
   "execution_count": 116,
   "metadata": {},
   "outputs": [],
   "source": [
    "# check_camera_coverage({56, 161, 327, 380},subsets,set_all_cameras)"
   ]
  },
  {
   "cell_type": "code",
   "execution_count": 117,
   "metadata": {},
   "outputs": [],
   "source": [
    "# solution = {56,161,327,380}"
   ]
  },
  {
   "cell_type": "markdown",
   "metadata": {},
   "source": [
    "This is the correct local search"
   ]
  },
  {
   "cell_type": "code",
   "execution_count": 113,
   "metadata": {},
   "outputs": [],
   "source": [
    "def local_search(solution, subsets,set_all_cameras):\n",
    "\n",
    "    clean_soln_set = remove_redundant_cameras(solution,subsets,set_all_cameras)\n",
    "\n",
    "    # Subsets not in the solution\n",
    "    subsets_not_in_solution = set([s for s in total_num_subsets if s not in sol_set])\n",
    "\n",
    "    best_accuracy = compute_accuracy(solution)\n",
    "    best_solution_set = solution.copy()\n",
    "\n",
    "    # flags to decide whether to remove a subset; or swap a subset during the search    \n",
    "    remove_subset_flag = True\n",
    "    swap_subset_flag = True\n",
    "\n",
    "    while remove_subset_flag or swap_subset_flag:\n",
    "\n",
    "        # Set as false for now; until one of the situations evaluates to be true later\n",
    "        remove_subset_flag = False\n",
    "        swap_subset_flag = False\n",
    "\n",
    "        temp_sol = clean_soln_set.copy()\n",
    "        for i_out in clean_soln_set:\n",
    "\n",
    "            # remove i_out index of subset if redundant\n",
    "            temp_sol.difference_update({i_out})\n",
    "\n",
    "            if check_camera_coverage(temp_sol,subsets,set_all_cameras):\n",
    "                remove_subset_flag = True\n",
    "                clean_soln_set.difference_update({i_out})\n",
    "                # improved and exit\n",
    "                break\n",
    "            else:\n",
    "                temp_sol.update({i_out})\n",
    "\n",
    "            \n",
    "            for i_in in subsets_not_in_solution:\n",
    "\n",
    "                # If the subset entering the solution has higher cost than the one exiting, improvement is not possible\n",
    "                # This local search never allows the solution to get worst\n",
    "                if subsets_acc[i_in] >= subsets_acc[i_out]:\n",
    "\n",
    "                    temp_sol.update({i_in})\n",
    "                    temp_sol.difference_update({i_out})\n",
    "\n",
    "                    accuracy = compute_accuracy(temp_sol)\n",
    "\n",
    "                    if accuracy > best_accuracy and check_camera_coverage(temp_sol,subsets,set_all_cameras):\n",
    "                        swap_subset_flag = True\n",
    "\n",
    "                        best_accuracy = accuracy\n",
    "                        best_solution_set = temp_sol.copy()\n",
    "\n",
    "                        sub_in = i_in\n",
    "                        sub_out = i_out\n",
    "\n",
    "                    temp_sol = clean_soln_set.copy()\n",
    "        # if a swap was undertaken, update the subsets_not_in_solution accordingly\n",
    "        if swap_subset_flag:\n",
    "\n",
    "            subsets_not_in_solution.difference_update({sub_in})\n",
    "            subsets_not_in_solution.update({sub_out})\n",
    "\n",
    "            clean_soln_set = best_solution_set.copy()\n",
    "            print('Updated solution', clean_soln_set)\n",
    "            print('Updated accuracy', best_accuracy)\n",
    "    \n",
    "    return clean_soln_set"
   ]
  },
  {
   "cell_type": "markdown",
   "metadata": {},
   "source": [
    "If you run the below, you will see the accuracy go up"
   ]
  },
  {
   "cell_type": "code",
   "execution_count": 118,
   "metadata": {},
   "outputs": [],
   "source": [
    "# local_search(solution, subsets, set_all_cameras)"
   ]
  },
  {
   "cell_type": "code",
   "execution_count": 119,
   "metadata": {
    "tags": [
     "outputPrepend",
     "outputPrepend"
    ]
   },
   "outputs": [],
   "source": [
    "# def local_search(solution):\n",
    "#     # we take the current solution and the unused subsets\n",
    "#     # iterate and swap if it leads to a better solution in terms of higher accuracy\n",
    "\n",
    "#     # Subsets not in solution\n",
    "#     subsets_not_in_solution = set([s for s in total_num_subsets if s not in solution])\n",
    "#     print(solution)\n",
    "#     # print(subsets_not_in_solution)\n",
    "#     best_accuracy = compute_accuracy(solution)\n",
    "#     print(best_accuracy)\n",
    "#     best_solution_set = solution.copy()\n",
    "\n",
    "#     temp_solution = solution.copy()\n",
    "#     for s_out in solution:\n",
    "#         for s_in in subsets_not_in_solution:\n",
    "#             # recall we want higher accuracy so we swap in s_in if it has higher acc\n",
    "#             if subsets_acc[s_in] > subsets_acc[s_out]:\n",
    "#                 # do the swap if we can get better accuracy based on simple comparison of the 2 subsets accuracy\n",
    "#                 temp_solution.update({s_in})\n",
    "#                 print('Add', s_in)\n",
    "#                 temp_solution.difference_update({s_out})\n",
    "#                 print('Remove', s_out)\n",
    "#                 accuracy = compute_accuracy(temp_solution)\n",
    "\n",
    "#                 if accuracy > best_accuracy and is_feasible(temp_solution,total_bandwidth):\n",
    "#                     # update the current best accuracy and solution\n",
    "#                     best_accuracy = accuracy\n",
    "#                     best_solution_set = temp_solution\n",
    "#                     #print(best_accuracy,compute_bandwidth(temp_solution))\n",
    "#     return best_solution_set\n",
    "# best_sol = local_search(solution)"
   ]
  },
  {
   "cell_type": "code",
   "execution_count": 120,
   "metadata": {},
   "outputs": [],
   "source": [
    "def repair_unfeasible(solution):\n",
    "    subsets_not_in_solution = set([s for s in total_num_subsets if s not in solution])\n",
    "    best_bandwidth = compute_bandwidth(solution)\n",
    "\n",
    "    #best_bandwidth = compute_bandwidth(solution)\n",
    "    #best_solution_set = solution.copy()\n",
    "\n",
    "    temp_solution = solution.copy()\n",
    "\n",
    "    for s_out in solution:\n",
    "        subs = subsets[s_out]\n",
    "        temp_solution.difference_update({s_out})\n",
    "        if len(subs)>1:\n",
    "            for s_in in subs: \n",
    "                temp_solution.update({s_in})\n",
    "            #if bandwidth < best_bandwidth:\n",
    "\n",
    "            if is_feasible(temp_solution,total_bandwidth):\n",
    "                return temp_solution\n",
    "            #solution = temp_solution\n",
    "    return None"
   ]
  },
  {
   "cell_type": "code",
   "execution_count": 121,
   "metadata": {},
   "outputs": [
    {
     "name": "stdout",
     "output_type": "stream",
     "text": [
      "Best Accuracy:  226.5  Bandwidth:  240.0\n",
      "Best Accuracy:  239.0  Bandwidth:  240.0\n",
      "Best Accuracy:  239.0  Bandwidth:  240.0\n",
      "Best Accuracy:  239.0  Bandwidth:  240.0\n",
      "Best Accuracy:  239.0  Bandwidth:  240.0\n",
      "Best Accuracy:  239.0  Bandwidth:  240.0\n",
      "Best Accuracy:  383.08333333333337  Bandwidth:  260.0\n",
      "Best Accuracy:  383.08333333333337  Bandwidth:  260.0\n",
      "Updated solution {258, 5, 327, 376, 284}\n",
      "Updated accuracy 391.25\n",
      "Updated solution {258, 5, 22, 327, 376}\n",
      "Updated accuracy 408.5\n",
      "Updated solution {5, 22, 327, 376, 217}\n",
      "Updated accuracy 419.75\n",
      "Best Accuracy:  383.08333333333337  Bandwidth:  260.0\n",
      "Best Accuracy:  383.08333333333337  Bandwidth:  260.0\n",
      "Best Accuracy:  383.08333333333337  Bandwidth:  260.0\n",
      "Best Accuracy:  383.08333333333337  Bandwidth:  260.0\n",
      "Best Accuracy:  383.08333333333337  Bandwidth:  260.0\n",
      "Best Accuracy:  383.08333333333337  Bandwidth:  260.0\n",
      "Best Accuracy:  383.08333333333337  Bandwidth:  260.0\n",
      "Best Accuracy:  383.08333333333337  Bandwidth:  260.0\n",
      "Best Accuracy:  383.08333333333337  Bandwidth:  260.0\n",
      "Best Accuracy:  401.5833333333333  Bandwidth:  330.0\n",
      "Best Accuracy:  401.5833333333333  Bandwidth:  330.0\n",
      "Best Accuracy:  401.5833333333333  Bandwidth:  330.0\n",
      "Best Accuracy:  401.5833333333333  Bandwidth:  330.0\n",
      "Best Accuracy:  401.5833333333333  Bandwidth:  330.0\n",
      "Best Accuracy:  401.5833333333333  Bandwidth:  330.0\n",
      "Best Accuracy:  401.5833333333333  Bandwidth:  330.0\n",
      "Best Accuracy:  401.5833333333333  Bandwidth:  330.0\n",
      "Best Accuracy:  401.5833333333333  Bandwidth:  330.0\n",
      "Best Accuracy:  401.5833333333333  Bandwidth:  330.0\n",
      "Best Accuracy:  401.5833333333333  Bandwidth:  330.0\n",
      "Best Accuracy:  401.5833333333333  Bandwidth:  330.0\n",
      "Best Accuracy:  401.5833333333333  Bandwidth:  330.0\n",
      "Best Accuracy:  401.5833333333333  Bandwidth:  330.0\n",
      "Best Accuracy:  401.5833333333333  Bandwidth:  330.0\n",
      "Best Accuracy:  401.5833333333333  Bandwidth:  330.0\n",
      "Best Accuracy:  401.5833333333333  Bandwidth:  330.0\n",
      "Best Accuracy:  401.5833333333333  Bandwidth:  330.0\n",
      "Best Accuracy:  401.5833333333333  Bandwidth:  330.0\n",
      "Best Accuracy:  401.5833333333333  Bandwidth:  330.0\n",
      "Best Accuracy:  401.5833333333333  Bandwidth:  330.0\n",
      "Best Accuracy:  401.5833333333333  Bandwidth:  330.0\n",
      "Best Accuracy:  401.5833333333333  Bandwidth:  330.0\n",
      "Best Accuracy:  401.5833333333333  Bandwidth:  330.0\n",
      "Best Accuracy:  401.5833333333333  Bandwidth:  330.0\n",
      "Best Accuracy:  401.5833333333333  Bandwidth:  330.0\n",
      "Best Accuracy:  401.5833333333333  Bandwidth:  330.0\n",
      "Best Accuracy:  401.5833333333333  Bandwidth:  330.0\n",
      "Best Accuracy:  401.5833333333333  Bandwidth:  330.0\n",
      "Best Accuracy:  401.5833333333333  Bandwidth:  330.0\n",
      "Best Accuracy:  401.5833333333333  Bandwidth:  330.0\n",
      "Best Accuracy:  401.5833333333333  Bandwidth:  330.0\n",
      "Best Accuracy:  401.5833333333333  Bandwidth:  330.0\n",
      "Best Accuracy:  401.5833333333333  Bandwidth:  330.0\n",
      "Best Accuracy:  401.5833333333333  Bandwidth:  330.0\n",
      "Best Accuracy:  401.5833333333333  Bandwidth:  330.0\n",
      "Best Accuracy:  401.5833333333333  Bandwidth:  330.0\n",
      "Best Accuracy:  401.5833333333333  Bandwidth:  330.0\n",
      "Best Accuracy:  401.5833333333333  Bandwidth:  330.0\n",
      "Best Accuracy:  401.5833333333333  Bandwidth:  330.0\n",
      "Best Accuracy:  401.5833333333333  Bandwidth:  330.0\n",
      "Updated solution {293, 61, 371, 29}\n",
      "Updated accuracy 321.9166666666667\n",
      "Updated solution {293, 65, 371, 29}\n",
      "Updated accuracy 332.9166666666667\n",
      "Best Accuracy:  401.5833333333333  Bandwidth:  330.0\n",
      "Updated solution {258, 274, 307, 260, 301}\n",
      "Updated accuracy 388.25\n",
      "Updated solution {274, 307, 260, 216, 301}\n",
      "Updated accuracy 398.25\n",
      "Updated solution {307, 260, 216, 301, 271}\n",
      "Updated accuracy 409.0\n",
      "Best Accuracy:  401.5833333333333  Bandwidth:  330.0\n",
      "Best Accuracy:  401.5833333333333  Bandwidth:  330.0\n",
      "Best Accuracy:  401.5833333333333  Bandwidth:  330.0\n",
      "Best Accuracy:  401.5833333333333  Bandwidth:  330.0\n",
      "Best Accuracy:  401.5833333333333  Bandwidth:  330.0\n",
      "Best Accuracy:  401.5833333333333  Bandwidth:  330.0\n",
      "Best Accuracy: 401.5833333333333  Bandwidth:  330.0\n",
      "Best Accuracy:  401.5833333333333  Bandwidth:  330.0\n",
      "Best Accuracy:  401.5833333333333  Bandwidth:  330.0\n",
      "Best Accuracy:  401.5833333333333  Bandwidth:  330.0\n",
      "Best Accuracy:  401.5833333333333  Bandwidth:  330.0\n",
      "Best Accuracy:  401.5833333333333  Bandwidth:  330.0\n",
      "Updated solution {305, 209, 260, 254}\n",
      "Updated accuracy 330.0\n",
      "Updated solution {345, 305, 209, 260}\n",
      "Updated accuracy 333.0\n",
      "Updated solution {345, 209, 260, 340}\n",
      "Updated accuracy 333.25\n",
      "Best Accuracy:  401.5833333333333  Bandwidth:  330.0\n",
      "Best Accuracy:  401.5833333333333  Bandwidth:  330.0\n",
      "Best Accuracy:  401.5833333333333  Bandwidth:  330.0\n",
      "Best Accuracy:  401.5833333333333  Bandwidth:  330.0\n",
      "Best Accuracy:  401.5833333333333  Bandwidth:  330.0\n",
      "Best Accuracy:  401.5833333333333  Bandwidth:  330.0\n",
      "Best Accuracy:  401.5833333333333  Bandwidth:  330.0\n",
      "Best Accuracy:  401.5833333333333  Bandwidth:  330.0\n",
      "Best Accuracy:  401.5833333333333  Bandwidth:  330.0\n",
      "Best Accuracy:  401.5833333333333  Bandwidth:  330.0\n",
      "Best Accuracy:  401.5833333333333  Bandwidth:  330.0\n",
      "Best Accuracy:  401.5833333333333  Bandwidth:  330.0\n",
      "Best Accuracy:  401.5833333333333  Bandwidth:  330.0\n",
      "Best Accuracy:  401.5833333333333  Bandwidth:  330.0\n",
      "Best Accuracy:  401.5833333333333  Bandwidth:  330.0\n",
      "Best Accuracy:  401.5833333333333  Bandwidth:  330.0\n",
      "Best Accuracy:  401.5833333333333  Bandwidth:  330.0\n",
      "Best Accuracy:  401.5833333333333  Bandwidth:  330.0\n",
      "Best Accuracy:  401.5833333333333  Bandwidth:  330.0\n",
      "Best Accuracy:  401.5833333333333  Bandwidth:  330.0\n",
      "Best Accuracy:  401.5833333333333  Bandwidth:  330.0\n",
      "Best Accuracy:  401.5833333333333  Bandwidth:  330.0\n",
      "Best Accuracy:  401.5833333333333  Bandwidth:  330.0\n",
      "Best Accuracy:  401.5833333333333  Bandwidth:  330.0\n",
      "Best Accuracy:  401.5833333333333  Bandwidth:  330.0\n",
      "Best Accuracy:  401.5833333333333  Bandwidth:  330.0\n",
      "Best Accuracy:  401.5833333333333  Bandwidth:  330.0\n",
      "Best Accuracy:  401.5833333333333  Bandwidth:  330.0\n",
      "Best Accuracy:  401.5833333333333  Bandwidth:  330.0\n",
      "401.5833333333333 330.0\n"
     ]
    }
   ],
   "source": [
    "def GRASP(num_iterations, alpha, num_sample_pool, path_relinking_flag=True):\n",
    "    best_acc = 0\n",
    "    best_sol = None\n",
    "    # list of solutions that we have gone through\n",
    "    S = []\n",
    "    iteration = num_iterations\n",
    "    while iteration > 0:\n",
    "        iteration -= 1\n",
    "        solution = greedy_randomized_construction(alpha, total_num_subsets,set_all_cameras)\n",
    "        # Change this to use the updated local search\n",
    "        solution = local_search(solution, subsets, set_all_cameras)\n",
    "        #print(\"F\",solution)\n",
    "        if not is_feasible(solution,total_bandwidth):\n",
    "            solution = repair_unfeasible(solution)\n",
    "            #print(\"D\",solution)\n",
    "        S.append(solution)\n",
    "        #print(\"Best Accuracy: \",best_acc)\n",
    "        acc = compute_accuracy(S[-1])\n",
    "        if acc > best_acc:\n",
    "            best_acc = acc\n",
    "            best_sol = S[-1]\n",
    "        print(\"Best Accuracy: \",best_acc, \" Bandwidth: \",compute_bandwidth(best_sol))\n",
    "    return best_acc, best_sol\n",
    "\n",
    "best_acc,best_sol = GRASP(100, 0.1, 10, False)\n",
    "print(best_acc,compute_bandwidth(best_sol))"
   ]
  },
  {
   "cell_type": "code",
   "execution_count": null,
   "metadata": {},
   "outputs": [],
   "source": []
  }
 ],
 "metadata": {
  "kernelspec": {
   "display_name": "Python 3",
   "language": "python",
   "name": "python3"
  },
  "language_info": {
   "codemirror_mode": {
    "name": "ipython",
    "version": 3
   },
   "file_extension": ".py",
   "mimetype": "text/x-python",
   "name": "python",
   "nbconvert_exporter": "python",
   "pygments_lexer": "ipython3",
   "version": "3.7.3-final"
  }
 },
 "nbformat": 4,
 "nbformat_minor": 2
}
